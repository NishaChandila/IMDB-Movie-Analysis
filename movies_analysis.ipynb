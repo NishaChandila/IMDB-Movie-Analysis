{
 "cells": [
  {
   "cell_type": "markdown",
   "id": "0c2d1350",
   "metadata": {},
   "source": [
    "#### IMPORT PYTHON LIBRARIES"
   ]
  },
  {
   "cell_type": "code",
   "execution_count": 1,
   "id": "8daa7e2c",
   "metadata": {},
   "outputs": [],
   "source": [
    "import pandas as pd\n",
    "import matplotlib.pyplot as plt\n",
    "import numpy as np\n",
    "import plotly.express as px"
   ]
  },
  {
   "cell_type": "markdown",
   "id": "8558905b",
   "metadata": {},
   "source": [
    "#### IMPORTING CSV FILE"
   ]
  },
  {
   "cell_type": "code",
   "execution_count": 2,
   "id": "43845c1f",
   "metadata": {},
   "outputs": [
    {
     "data": {
      "text/html": [
       "<div>\n",
       "<style scoped>\n",
       "    .dataframe tbody tr th:only-of-type {\n",
       "        vertical-align: middle;\n",
       "    }\n",
       "\n",
       "    .dataframe tbody tr th {\n",
       "        vertical-align: top;\n",
       "    }\n",
       "\n",
       "    .dataframe thead th {\n",
       "        text-align: right;\n",
       "    }\n",
       "</style>\n",
       "<table border=\"1\" class=\"dataframe\">\n",
       "  <thead>\n",
       "    <tr style=\"text-align: right;\">\n",
       "      <th></th>\n",
       "      <th>id</th>\n",
       "      <th>imdb_id</th>\n",
       "      <th>popularity</th>\n",
       "      <th>budget</th>\n",
       "      <th>revenue</th>\n",
       "      <th>original_title</th>\n",
       "      <th>cast</th>\n",
       "      <th>homepage</th>\n",
       "      <th>director</th>\n",
       "      <th>tagline</th>\n",
       "      <th>...</th>\n",
       "      <th>overview</th>\n",
       "      <th>runtime</th>\n",
       "      <th>genres</th>\n",
       "      <th>production_companies</th>\n",
       "      <th>release_date</th>\n",
       "      <th>vote_count</th>\n",
       "      <th>vote_average</th>\n",
       "      <th>release_year</th>\n",
       "      <th>budget_adj</th>\n",
       "      <th>revenue_adj</th>\n",
       "    </tr>\n",
       "  </thead>\n",
       "  <tbody>\n",
       "    <tr>\n",
       "      <th>0</th>\n",
       "      <td>135397</td>\n",
       "      <td>tt0369610</td>\n",
       "      <td>32.985763</td>\n",
       "      <td>150000000</td>\n",
       "      <td>1513528810</td>\n",
       "      <td>Jurassic World</td>\n",
       "      <td>Chris Pratt|Bryce Dallas Howard|Irrfan Khan|Vi...</td>\n",
       "      <td>http://www.jurassicworld.com/</td>\n",
       "      <td>Colin Trevorrow</td>\n",
       "      <td>The park is open.</td>\n",
       "      <td>...</td>\n",
       "      <td>Twenty-two years after the events of Jurassic ...</td>\n",
       "      <td>124</td>\n",
       "      <td>Action|Adventure|Science Fiction|Thriller</td>\n",
       "      <td>Universal Studios|Amblin Entertainment|Legenda...</td>\n",
       "      <td>6/9/15</td>\n",
       "      <td>5562</td>\n",
       "      <td>6.5</td>\n",
       "      <td>2015</td>\n",
       "      <td>1.379999e+08</td>\n",
       "      <td>1.392446e+09</td>\n",
       "    </tr>\n",
       "    <tr>\n",
       "      <th>1</th>\n",
       "      <td>76341</td>\n",
       "      <td>tt1392190</td>\n",
       "      <td>28.419936</td>\n",
       "      <td>150000000</td>\n",
       "      <td>378436354</td>\n",
       "      <td>Mad Max: Fury Road</td>\n",
       "      <td>Tom Hardy|Charlize Theron|Hugh Keays-Byrne|Nic...</td>\n",
       "      <td>http://www.madmaxmovie.com/</td>\n",
       "      <td>George Miller</td>\n",
       "      <td>What a Lovely Day.</td>\n",
       "      <td>...</td>\n",
       "      <td>An apocalyptic story set in the furthest reach...</td>\n",
       "      <td>120</td>\n",
       "      <td>Action|Adventure|Science Fiction|Thriller</td>\n",
       "      <td>Village Roadshow Pictures|Kennedy Miller Produ...</td>\n",
       "      <td>5/13/15</td>\n",
       "      <td>6185</td>\n",
       "      <td>7.1</td>\n",
       "      <td>2015</td>\n",
       "      <td>1.379999e+08</td>\n",
       "      <td>3.481613e+08</td>\n",
       "    </tr>\n",
       "    <tr>\n",
       "      <th>2</th>\n",
       "      <td>262500</td>\n",
       "      <td>tt2908446</td>\n",
       "      <td>13.112507</td>\n",
       "      <td>110000000</td>\n",
       "      <td>295238201</td>\n",
       "      <td>Insurgent</td>\n",
       "      <td>Shailene Woodley|Theo James|Kate Winslet|Ansel...</td>\n",
       "      <td>http://www.thedivergentseries.movie/#insurgent</td>\n",
       "      <td>Robert Schwentke</td>\n",
       "      <td>One Choice Can Destroy You</td>\n",
       "      <td>...</td>\n",
       "      <td>Beatrice Prior must confront her inner demons ...</td>\n",
       "      <td>119</td>\n",
       "      <td>Adventure|Science Fiction|Thriller</td>\n",
       "      <td>Summit Entertainment|Mandeville Films|Red Wago...</td>\n",
       "      <td>3/18/15</td>\n",
       "      <td>2480</td>\n",
       "      <td>6.3</td>\n",
       "      <td>2015</td>\n",
       "      <td>1.012000e+08</td>\n",
       "      <td>2.716190e+08</td>\n",
       "    </tr>\n",
       "    <tr>\n",
       "      <th>3</th>\n",
       "      <td>140607</td>\n",
       "      <td>tt2488496</td>\n",
       "      <td>11.173104</td>\n",
       "      <td>200000000</td>\n",
       "      <td>2068178225</td>\n",
       "      <td>Star Wars: The Force Awakens</td>\n",
       "      <td>Harrison Ford|Mark Hamill|Carrie Fisher|Adam D...</td>\n",
       "      <td>http://www.starwars.com/films/star-wars-episod...</td>\n",
       "      <td>J.J. Abrams</td>\n",
       "      <td>Every generation has a story.</td>\n",
       "      <td>...</td>\n",
       "      <td>Thirty years after defeating the Galactic Empi...</td>\n",
       "      <td>136</td>\n",
       "      <td>Action|Adventure|Science Fiction|Fantasy</td>\n",
       "      <td>Lucasfilm|Truenorth Productions|Bad Robot</td>\n",
       "      <td>12/15/15</td>\n",
       "      <td>5292</td>\n",
       "      <td>7.5</td>\n",
       "      <td>2015</td>\n",
       "      <td>1.839999e+08</td>\n",
       "      <td>1.902723e+09</td>\n",
       "    </tr>\n",
       "    <tr>\n",
       "      <th>4</th>\n",
       "      <td>168259</td>\n",
       "      <td>tt2820852</td>\n",
       "      <td>9.335014</td>\n",
       "      <td>190000000</td>\n",
       "      <td>1506249360</td>\n",
       "      <td>Furious 7</td>\n",
       "      <td>Vin Diesel|Paul Walker|Jason Statham|Michelle ...</td>\n",
       "      <td>http://www.furious7.com/</td>\n",
       "      <td>James Wan</td>\n",
       "      <td>Vengeance Hits Home</td>\n",
       "      <td>...</td>\n",
       "      <td>Deckard Shaw seeks revenge against Dominic Tor...</td>\n",
       "      <td>137</td>\n",
       "      <td>Action|Crime|Thriller</td>\n",
       "      <td>Universal Pictures|Original Film|Media Rights ...</td>\n",
       "      <td>4/1/15</td>\n",
       "      <td>2947</td>\n",
       "      <td>7.3</td>\n",
       "      <td>2015</td>\n",
       "      <td>1.747999e+08</td>\n",
       "      <td>1.385749e+09</td>\n",
       "    </tr>\n",
       "  </tbody>\n",
       "</table>\n",
       "<p>5 rows × 21 columns</p>\n",
       "</div>"
      ],
      "text/plain": [
       "       id    imdb_id  popularity     budget     revenue  \\\n",
       "0  135397  tt0369610   32.985763  150000000  1513528810   \n",
       "1   76341  tt1392190   28.419936  150000000   378436354   \n",
       "2  262500  tt2908446   13.112507  110000000   295238201   \n",
       "3  140607  tt2488496   11.173104  200000000  2068178225   \n",
       "4  168259  tt2820852    9.335014  190000000  1506249360   \n",
       "\n",
       "                 original_title  \\\n",
       "0                Jurassic World   \n",
       "1            Mad Max: Fury Road   \n",
       "2                     Insurgent   \n",
       "3  Star Wars: The Force Awakens   \n",
       "4                     Furious 7   \n",
       "\n",
       "                                                cast  \\\n",
       "0  Chris Pratt|Bryce Dallas Howard|Irrfan Khan|Vi...   \n",
       "1  Tom Hardy|Charlize Theron|Hugh Keays-Byrne|Nic...   \n",
       "2  Shailene Woodley|Theo James|Kate Winslet|Ansel...   \n",
       "3  Harrison Ford|Mark Hamill|Carrie Fisher|Adam D...   \n",
       "4  Vin Diesel|Paul Walker|Jason Statham|Michelle ...   \n",
       "\n",
       "                                            homepage          director  \\\n",
       "0                      http://www.jurassicworld.com/   Colin Trevorrow   \n",
       "1                        http://www.madmaxmovie.com/     George Miller   \n",
       "2     http://www.thedivergentseries.movie/#insurgent  Robert Schwentke   \n",
       "3  http://www.starwars.com/films/star-wars-episod...       J.J. Abrams   \n",
       "4                           http://www.furious7.com/         James Wan   \n",
       "\n",
       "                         tagline  ...  \\\n",
       "0              The park is open.  ...   \n",
       "1             What a Lovely Day.  ...   \n",
       "2     One Choice Can Destroy You  ...   \n",
       "3  Every generation has a story.  ...   \n",
       "4            Vengeance Hits Home  ...   \n",
       "\n",
       "                                            overview runtime  \\\n",
       "0  Twenty-two years after the events of Jurassic ...     124   \n",
       "1  An apocalyptic story set in the furthest reach...     120   \n",
       "2  Beatrice Prior must confront her inner demons ...     119   \n",
       "3  Thirty years after defeating the Galactic Empi...     136   \n",
       "4  Deckard Shaw seeks revenge against Dominic Tor...     137   \n",
       "\n",
       "                                      genres  \\\n",
       "0  Action|Adventure|Science Fiction|Thriller   \n",
       "1  Action|Adventure|Science Fiction|Thriller   \n",
       "2         Adventure|Science Fiction|Thriller   \n",
       "3   Action|Adventure|Science Fiction|Fantasy   \n",
       "4                      Action|Crime|Thriller   \n",
       "\n",
       "                                production_companies release_date vote_count  \\\n",
       "0  Universal Studios|Amblin Entertainment|Legenda...       6/9/15       5562   \n",
       "1  Village Roadshow Pictures|Kennedy Miller Produ...      5/13/15       6185   \n",
       "2  Summit Entertainment|Mandeville Films|Red Wago...      3/18/15       2480   \n",
       "3          Lucasfilm|Truenorth Productions|Bad Robot     12/15/15       5292   \n",
       "4  Universal Pictures|Original Film|Media Rights ...       4/1/15       2947   \n",
       "\n",
       "   vote_average  release_year    budget_adj   revenue_adj  \n",
       "0           6.5          2015  1.379999e+08  1.392446e+09  \n",
       "1           7.1          2015  1.379999e+08  3.481613e+08  \n",
       "2           6.3          2015  1.012000e+08  2.716190e+08  \n",
       "3           7.5          2015  1.839999e+08  1.902723e+09  \n",
       "4           7.3          2015  1.747999e+08  1.385749e+09  \n",
       "\n",
       "[5 rows x 21 columns]"
      ]
     },
     "execution_count": 2,
     "metadata": {},
     "output_type": "execute_result"
    }
   ],
   "source": [
    "df = pd.read_csv('movies.csv')\n",
    "df.head()"
   ]
  },
  {
   "cell_type": "code",
   "execution_count": 3,
   "id": "ccabeb34",
   "metadata": {},
   "outputs": [
    {
     "data": {
      "text/plain": [
       "(10866, 21)"
      ]
     },
     "execution_count": 3,
     "metadata": {},
     "output_type": "execute_result"
    }
   ],
   "source": [
    "df.shape"
   ]
  },
  {
   "cell_type": "code",
   "execution_count": 4,
   "id": "f6a9122d",
   "metadata": {},
   "outputs": [
    {
     "data": {
      "text/plain": [
       "Index(['id', 'imdb_id', 'popularity', 'budget', 'revenue', 'original_title',\n",
       "       'cast', 'homepage', 'director', 'tagline', 'keywords', 'overview',\n",
       "       'runtime', 'genres', 'production_companies', 'release_date',\n",
       "       'vote_count', 'vote_average', 'release_year', 'budget_adj',\n",
       "       'revenue_adj'],\n",
       "      dtype='object')"
      ]
     },
     "execution_count": 4,
     "metadata": {},
     "output_type": "execute_result"
    }
   ],
   "source": [
    "df.columns"
   ]
  },
  {
   "cell_type": "markdown",
   "id": "4dca7128",
   "metadata": {},
   "source": [
    "#### CHECKING NULL VALUES SUM"
   ]
  },
  {
   "cell_type": "code",
   "execution_count": 5,
   "id": "ab821104",
   "metadata": {},
   "outputs": [
    {
     "data": {
      "text/plain": [
       "id                         0\n",
       "imdb_id                   10\n",
       "popularity                 0\n",
       "budget                     0\n",
       "revenue                    0\n",
       "original_title             0\n",
       "cast                      76\n",
       "homepage                7930\n",
       "director                  44\n",
       "tagline                 2824\n",
       "keywords                1493\n",
       "overview                   4\n",
       "runtime                    0\n",
       "genres                    23\n",
       "production_companies    1030\n",
       "release_date               0\n",
       "vote_count                 0\n",
       "vote_average               0\n",
       "release_year               0\n",
       "budget_adj                 0\n",
       "revenue_adj                0\n",
       "dtype: int64"
      ]
     },
     "execution_count": 5,
     "metadata": {},
     "output_type": "execute_result"
    }
   ],
   "source": [
    "df.isnull().sum()"
   ]
  },
  {
   "cell_type": "markdown",
   "id": "125e5ed4",
   "metadata": {},
   "source": [
    "#### DROPPING IRRELEVANT COLUMNS"
   ]
  },
  {
   "cell_type": "code",
   "execution_count": 6,
   "id": "d8949cb1",
   "metadata": {},
   "outputs": [],
   "source": [
    "df.drop(columns = ['id','imdb_id','homepage','cast','tagline','overview','budget_adj'], inplace=True)"
   ]
  },
  {
   "cell_type": "markdown",
   "id": "bbc9a812",
   "metadata": {},
   "source": [
    "#### Dropna values  where either the 'genres' or 'director' column has missing values"
   ]
  },
  {
   "cell_type": "code",
   "execution_count": 7,
   "id": "73d0f36f",
   "metadata": {},
   "outputs": [],
   "source": [
    "df.dropna(how='any',subset=['genres','director'],inplace=True)"
   ]
  },
  {
   "cell_type": "markdown",
   "id": "5969704f",
   "metadata": {},
   "source": [
    "#### Filling missing value with 0"
   ]
  },
  {
   "cell_type": "code",
   "execution_count": 8,
   "id": "1898f029",
   "metadata": {},
   "outputs": [],
   "source": [
    "df['production_companies'] = df['production_companies'].fillna(0)\n",
    "df['keywords'] = df['keywords'].fillna(0)"
   ]
  },
  {
   "cell_type": "code",
   "execution_count": 9,
   "id": "5615cf38",
   "metadata": {},
   "outputs": [],
   "source": [
    "df['popularity'] = df['popularity'].round(2)"
   ]
  },
  {
   "cell_type": "markdown",
   "id": "2ebe7213",
   "metadata": {},
   "source": [
    "#### Calculates the profit by subtracting the 'budget' from the 'revenue'  and inserts at 3"
   ]
  },
  {
   "cell_type": "code",
   "execution_count": 10,
   "id": "abb705c0",
   "metadata": {},
   "outputs": [],
   "source": [
    "df.insert(3,'profit',df['revenue'] - df['budget'])"
   ]
  },
  {
   "cell_type": "markdown",
   "id": "51718d1b",
   "metadata": {},
   "source": [
    "#### Calculate the roi by dividing the 'profit' and 'budget' and insert at 4"
   ]
  },
  {
   "cell_type": "code",
   "execution_count": 11,
   "id": "5e0e8831",
   "metadata": {},
   "outputs": [],
   "source": [
    "df.insert(4,'roi',df.profit/df.budget)"
   ]
  },
  {
   "cell_type": "markdown",
   "id": "a42f5009",
   "metadata": {},
   "source": [
    "#### Count of unique values in the 'roi' column of DataFrame 'df"
   ]
  },
  {
   "cell_type": "code",
   "execution_count": 12,
   "id": "4755e85d",
   "metadata": {
    "scrolled": true
   },
   "outputs": [
    {
     "data": {
      "text/plain": [
       "roi\n",
       "-1.000000    1311\n",
       " inf          995\n",
       " 1.000000       5\n",
       " 0.000000       4\n",
       " 3.000000       4\n",
       "             ... \n",
       "-0.691508       1\n",
       "-0.528361       1\n",
       "-0.295646       1\n",
       " 8.941651       1\n",
       " 1.346041       1\n",
       "Name: count, Length: 3818, dtype: int64"
      ]
     },
     "execution_count": 12,
     "metadata": {},
     "output_type": "execute_result"
    }
   ],
   "source": [
    "df.roi.value_counts()"
   ]
  },
  {
   "cell_type": "markdown",
   "id": "cf12d563",
   "metadata": {},
   "source": [
    "#### Creates a boolean mask identifying non-finite values or NaN in the 'roi' column "
   ]
  },
  {
   "cell_type": "code",
   "execution_count": 13,
   "id": "17e4ce3e",
   "metadata": {},
   "outputs": [],
   "source": [
    "non_finite_values = ~np.isfinite(df['roi'])"
   ]
  },
  {
   "cell_type": "code",
   "execution_count": 14,
   "id": "80b38a15",
   "metadata": {},
   "outputs": [
    {
     "data": {
      "text/plain": [
       "5636"
      ]
     },
     "execution_count": 14,
     "metadata": {},
     "output_type": "execute_result"
    }
   ],
   "source": [
    "non_finite_values.sum()"
   ]
  },
  {
   "cell_type": "markdown",
   "id": "f68658d9",
   "metadata": {},
   "source": [
    "#### Replaces infinite values (positive and negative) in the 'roi' with NaN"
   ]
  },
  {
   "cell_type": "code",
   "execution_count": 15,
   "id": "40af3764",
   "metadata": {},
   "outputs": [],
   "source": [
    "df['roi'] = df['roi'].replace([np.inf,-np.inf],np.nan)"
   ]
  },
  {
   "cell_type": "code",
   "execution_count": 16,
   "id": "7f815099",
   "metadata": {},
   "outputs": [],
   "source": [
    "df['roi'] = df['roi'].round(2)"
   ]
  },
  {
   "cell_type": "markdown",
   "id": "c93ab7a0",
   "metadata": {},
   "source": [
    "#### Creating new dataframe df1"
   ]
  },
  {
   "cell_type": "code",
   "execution_count": 17,
   "id": "4cf2e088",
   "metadata": {},
   "outputs": [],
   "source": [
    "df1 = df[['popularity','budget','revenue','profit','roi','vote_count','vote_average','release_year']]"
   ]
  },
  {
   "cell_type": "code",
   "execution_count": 18,
   "id": "72f5b9f7",
   "metadata": {},
   "outputs": [
    {
     "data": {
      "text/plain": [
       "popularity         0\n",
       "budget             0\n",
       "revenue            0\n",
       "profit             0\n",
       "roi             5636\n",
       "vote_count         0\n",
       "vote_average       0\n",
       "release_year       0\n",
       "dtype: int64"
      ]
     },
     "execution_count": 18,
     "metadata": {},
     "output_type": "execute_result"
    }
   ],
   "source": [
    "df1.isnull().sum()"
   ]
  },
  {
   "cell_type": "markdown",
   "id": "7fa44200",
   "metadata": {},
   "source": [
    "#### Histogram for  df1 with 20 bins figsize of 14x12."
   ]
  },
  {
   "cell_type": "code",
   "execution_count": 19,
   "id": "6b3ce9a1",
   "metadata": {},
   "outputs": [
    {
     "data": {
      "image/png": "[encoded data removed]",
      "text/plain": [
       "<Figure size 1400x1200 with 9 Axes>"
      ]
     },
     "metadata": {},
     "output_type": "display_data"
    }
   ],
   "source": [
    "df1.hist(bins=20,figsize=(14,12))\n",
    "plt.show()"
   ]
  },
  {
   "cell_type": "code",
   "execution_count": 20,
   "id": "13bb2b80",
   "metadata": {},
   "outputs": [
    {
     "data": {
      "text/plain": [
       "popularity\n",
       "0.14    193\n",
       "0.28    190\n",
       "0.21    186\n",
       "0.25    182\n",
       "0.20    179\n",
       "       ... \n",
       "5.81      1\n",
       "5.08      1\n",
       "3.83      1\n",
       "3.74      1\n",
       "2.68      1\n",
       "Name: count, Length: 483, dtype: int64"
      ]
     },
     "execution_count": 20,
     "metadata": {},
     "output_type": "execute_result"
    }
   ],
   "source": [
    "df.popularity.value_counts()"
   ]
  },
  {
   "cell_type": "code",
   "execution_count": 21,
   "id": "194a0b5a",
   "metadata": {},
   "outputs": [
    {
     "data": {
      "text/html": [
       "<div>\n",
       "<style scoped>\n",
       "    .dataframe tbody tr th:only-of-type {\n",
       "        vertical-align: middle;\n",
       "    }\n",
       "\n",
       "    .dataframe tbody tr th {\n",
       "        vertical-align: top;\n",
       "    }\n",
       "\n",
       "    .dataframe thead th {\n",
       "        text-align: right;\n",
       "    }\n",
       "</style>\n",
       "<table border=\"1\" class=\"dataframe\">\n",
       "  <thead>\n",
       "    <tr style=\"text-align: right;\">\n",
       "      <th></th>\n",
       "      <th>popularity</th>\n",
       "      <th>budget</th>\n",
       "      <th>revenue</th>\n",
       "      <th>profit</th>\n",
       "      <th>roi</th>\n",
       "      <th>original_title</th>\n",
       "      <th>director</th>\n",
       "      <th>keywords</th>\n",
       "      <th>runtime</th>\n",
       "      <th>genres</th>\n",
       "      <th>production_companies</th>\n",
       "      <th>release_date</th>\n",
       "      <th>vote_count</th>\n",
       "      <th>vote_average</th>\n",
       "      <th>release_year</th>\n",
       "      <th>revenue_adj</th>\n",
       "    </tr>\n",
       "  </thead>\n",
       "  <tbody>\n",
       "    <tr>\n",
       "      <th>0</th>\n",
       "      <td>32.99</td>\n",
       "      <td>150000000</td>\n",
       "      <td>1513528810</td>\n",
       "      <td>1363528810</td>\n",
       "      <td>9.09</td>\n",
       "      <td>Jurassic World</td>\n",
       "      <td>Colin Trevorrow</td>\n",
       "      <td>monster|dna|tyrannosaurus rex|velociraptor|island</td>\n",
       "      <td>124</td>\n",
       "      <td>Action|Adventure|Science Fiction|Thriller</td>\n",
       "      <td>Universal Studios|Amblin Entertainment|Legenda...</td>\n",
       "      <td>6/9/15</td>\n",
       "      <td>5562</td>\n",
       "      <td>6.5</td>\n",
       "      <td>2015</td>\n",
       "      <td>1.392446e+09</td>\n",
       "    </tr>\n",
       "    <tr>\n",
       "      <th>1</th>\n",
       "      <td>28.42</td>\n",
       "      <td>150000000</td>\n",
       "      <td>378436354</td>\n",
       "      <td>228436354</td>\n",
       "      <td>1.52</td>\n",
       "      <td>Mad Max: Fury Road</td>\n",
       "      <td>George Miller</td>\n",
       "      <td>future|chase|post-apocalyptic|dystopia|australia</td>\n",
       "      <td>120</td>\n",
       "      <td>Action|Adventure|Science Fiction|Thriller</td>\n",
       "      <td>Village Roadshow Pictures|Kennedy Miller Produ...</td>\n",
       "      <td>5/13/15</td>\n",
       "      <td>6185</td>\n",
       "      <td>7.1</td>\n",
       "      <td>2015</td>\n",
       "      <td>3.481613e+08</td>\n",
       "    </tr>\n",
       "  </tbody>\n",
       "</table>\n",
       "</div>"
      ],
      "text/plain": [
       "   popularity     budget     revenue      profit   roi      original_title  \\\n",
       "0       32.99  150000000  1513528810  1363528810  9.09      Jurassic World   \n",
       "1       28.42  150000000   378436354   228436354  1.52  Mad Max: Fury Road   \n",
       "\n",
       "          director                                           keywords  \\\n",
       "0  Colin Trevorrow  monster|dna|tyrannosaurus rex|velociraptor|island   \n",
       "1    George Miller   future|chase|post-apocalyptic|dystopia|australia   \n",
       "\n",
       "   runtime                                     genres  \\\n",
       "0      124  Action|Adventure|Science Fiction|Thriller   \n",
       "1      120  Action|Adventure|Science Fiction|Thriller   \n",
       "\n",
       "                                production_companies release_date  vote_count  \\\n",
       "0  Universal Studios|Amblin Entertainment|Legenda...       6/9/15        5562   \n",
       "1  Village Roadshow Pictures|Kennedy Miller Produ...      5/13/15        6185   \n",
       "\n",
       "   vote_average  release_year   revenue_adj  \n",
       "0           6.5          2015  1.392446e+09  \n",
       "1           7.1          2015  3.481613e+08  "
      ]
     },
     "execution_count": 21,
     "metadata": {},
     "output_type": "execute_result"
    }
   ],
   "source": [
    "df.head(2)"
   ]
  },
  {
   "cell_type": "code",
   "execution_count": 22,
   "id": "c047cf34",
   "metadata": {},
   "outputs": [],
   "source": [
    "df2 = df.groupby('release_year')['roi'].sum()"
   ]
  },
  {
   "cell_type": "markdown",
   "id": "558ba3eb",
   "metadata": {},
   "source": [
    "# Visualising data with line, bar graph and pie chart"
   ]
  },
  {
   "cell_type": "markdown",
   "id": "56f088f1",
   "metadata": {},
   "source": [
    "#### Calculate mean roi for release year then plots it as line graph "
   ]
  },
  {
   "cell_type": "code",
   "execution_count": 23,
   "id": "dfe785e3",
   "metadata": {},
   "outputs": [
    {
     "data": {
      "text/plain": [
       "<Axes: xlabel='release_year'>"
      ]
     },
     "execution_count": 23,
     "metadata": {},
     "output_type": "execute_result"
    },
    {
     "data": {
      "image/png": "[encoded data removed]",
      "text/plain": [
       "<Figure size 640x480 with 1 Axes>"
      ]
     },
     "metadata": {},
     "output_type": "display_data"
    }
   ],
   "source": [
    "df2 = df.groupby('release_year')['roi'].mean()\n",
    "df2.plot(kind='line')"
   ]
  },
  {
   "cell_type": "code",
   "execution_count": 24,
   "id": "f6a8a435",
   "metadata": {},
   "outputs": [
    {
     "data": {
      "text/plain": [
       "Text(0, 0.5, 'Popularity')"
      ]
     },
     "execution_count": 24,
     "metadata": {},
     "output_type": "execute_result"
    },
    {
     "data": {
      "image/png": "[encoded data removed]",
      "text/plain": [
       "<Figure size 640x480 with 1 Axes>"
      ]
     },
     "metadata": {},
     "output_type": "display_data"
    }
   ],
   "source": [
    "# line plot showing total popularity per year\n",
    "\n",
    "df3 = df.groupby('release_year')['popularity'].sum()\n",
    "df3.plot(kind='line', color='green')\n",
    "plt.xlabel('Year', fontsize=12)\n",
    "plt.ylabel('Popularity')"
   ]
  },
  {
   "cell_type": "code",
   "execution_count": 25,
   "id": "f063edd9",
   "metadata": {},
   "outputs": [
    {
     "data": {
      "text/plain": [
       "Text(0, 0.5, 'Rating')"
      ]
     },
     "execution_count": 25,
     "metadata": {},
     "output_type": "execute_result"
    },
    {
     "data": {
      "image/png": "[encoded data removed]",
      "text/plain": [
       "<Figure size 640x480 with 1 Axes>"
      ]
     },
     "metadata": {},
     "output_type": "display_data"
    }
   ],
   "source": [
    "# line plot showing vote average per year\n",
    "\n",
    "df4 = df.groupby('release_year')['vote_average'].mean()\n",
    "df4.plot(kind='line', color='red')\n",
    "plt.xlabel('Year', fontsize=12)\n",
    "plt.ylabel('Rating')"
   ]
  },
  {
   "cell_type": "code",
   "execution_count": 26,
   "id": "96875006",
   "metadata": {},
   "outputs": [
    {
     "data": {
      "text/plain": [
       "Text(0.5, 1.0, 'Popularity vs Vote Average')"
      ]
     },
     "execution_count": 26,
     "metadata": {},
     "output_type": "execute_result"
    },
    {
     "data": {
      "image/png": "[encoded data removed]",
      "text/plain": [
       "<Figure size 600x400 with 1 Axes>"
      ]
     },
     "metadata": {},
     "output_type": "display_data"
    }
   ],
   "source": [
    "# scatter plot of popularity against vote average\n",
    "\n",
    "df5 = df.plot.scatter(x='popularity',y='vote_average',c='green',figsize=(6,4))\n",
    "df5.set_xlabel('Popularity', color='DarkRed')\n",
    "df5.set_ylabel('Vote Average', color='DarkRed')\n",
    "df5.set_title('Popularity vs Vote Average', fontsize = 17)"
   ]
  },
  {
   "cell_type": "code",
   "execution_count": 27,
   "id": "d3925069",
   "metadata": {},
   "outputs": [
    {
     "data": {
      "text/plain": [
       "genres\n",
       "Drama                                      711\n",
       "Comedy                                     707\n",
       "Documentary                                306\n",
       "Drama|Romance                              289\n",
       "Comedy|Drama                               280\n",
       "                                          ... \n",
       "Science Fiction|Horror|Action|Thriller       1\n",
       "Action|Thriller|Science Fiction|Mystery      1\n",
       "Comedy|Music|Romance|Foreign                 1\n",
       "Documentary|Drama|Comedy                     1\n",
       "Mystery|Science Fiction|Thriller|Drama       1\n",
       "Name: count, Length: 2031, dtype: int64"
      ]
     },
     "execution_count": 27,
     "metadata": {},
     "output_type": "execute_result"
    }
   ],
   "source": [
    "df.genres.value_counts()"
   ]
  },
  {
   "cell_type": "markdown",
   "id": "f51c4d3f",
   "metadata": {},
   "source": [
    "#### Splits the values of genres '|' delimiter and converting into lists"
   ]
  },
  {
   "cell_type": "code",
   "execution_count": 28,
   "id": "ead1b1f1",
   "metadata": {},
   "outputs": [
    {
     "data": {
      "text/html": [
       "<div>\n",
       "<style scoped>\n",
       "    .dataframe tbody tr th:only-of-type {\n",
       "        vertical-align: middle;\n",
       "    }\n",
       "\n",
       "    .dataframe tbody tr th {\n",
       "        vertical-align: top;\n",
       "    }\n",
       "\n",
       "    .dataframe thead th {\n",
       "        text-align: right;\n",
       "    }\n",
       "</style>\n",
       "<table border=\"1\" class=\"dataframe\">\n",
       "  <thead>\n",
       "    <tr style=\"text-align: right;\">\n",
       "      <th></th>\n",
       "      <th>popularity</th>\n",
       "      <th>budget</th>\n",
       "      <th>revenue</th>\n",
       "      <th>profit</th>\n",
       "      <th>roi</th>\n",
       "      <th>original_title</th>\n",
       "      <th>director</th>\n",
       "      <th>keywords</th>\n",
       "      <th>runtime</th>\n",
       "      <th>genres</th>\n",
       "      <th>production_companies</th>\n",
       "      <th>release_date</th>\n",
       "      <th>vote_count</th>\n",
       "      <th>vote_average</th>\n",
       "      <th>release_year</th>\n",
       "      <th>revenue_adj</th>\n",
       "    </tr>\n",
       "  </thead>\n",
       "  <tbody>\n",
       "    <tr>\n",
       "      <th>0</th>\n",
       "      <td>32.99</td>\n",
       "      <td>150000000</td>\n",
       "      <td>1513528810</td>\n",
       "      <td>1363528810</td>\n",
       "      <td>9.09</td>\n",
       "      <td>Jurassic World</td>\n",
       "      <td>Colin Trevorrow</td>\n",
       "      <td>monster|dna|tyrannosaurus rex|velociraptor|island</td>\n",
       "      <td>124</td>\n",
       "      <td>[Action, Adventure, Science Fiction, Thriller]</td>\n",
       "      <td>Universal Studios|Amblin Entertainment|Legenda...</td>\n",
       "      <td>6/9/15</td>\n",
       "      <td>5562</td>\n",
       "      <td>6.5</td>\n",
       "      <td>2015</td>\n",
       "      <td>1.392446e+09</td>\n",
       "    </tr>\n",
       "    <tr>\n",
       "      <th>1</th>\n",
       "      <td>28.42</td>\n",
       "      <td>150000000</td>\n",
       "      <td>378436354</td>\n",
       "      <td>228436354</td>\n",
       "      <td>1.52</td>\n",
       "      <td>Mad Max: Fury Road</td>\n",
       "      <td>George Miller</td>\n",
       "      <td>future|chase|post-apocalyptic|dystopia|australia</td>\n",
       "      <td>120</td>\n",
       "      <td>[Action, Adventure, Science Fiction, Thriller]</td>\n",
       "      <td>Village Roadshow Pictures|Kennedy Miller Produ...</td>\n",
       "      <td>5/13/15</td>\n",
       "      <td>6185</td>\n",
       "      <td>7.1</td>\n",
       "      <td>2015</td>\n",
       "      <td>3.481613e+08</td>\n",
       "    </tr>\n",
       "    <tr>\n",
       "      <th>2</th>\n",
       "      <td>13.11</td>\n",
       "      <td>110000000</td>\n",
       "      <td>295238201</td>\n",
       "      <td>185238201</td>\n",
       "      <td>1.68</td>\n",
       "      <td>Insurgent</td>\n",
       "      <td>Robert Schwentke</td>\n",
       "      <td>based on novel|revolution|dystopia|sequel|dyst...</td>\n",
       "      <td>119</td>\n",
       "      <td>[Adventure, Science Fiction, Thriller]</td>\n",
       "      <td>Summit Entertainment|Mandeville Films|Red Wago...</td>\n",
       "      <td>3/18/15</td>\n",
       "      <td>2480</td>\n",
       "      <td>6.3</td>\n",
       "      <td>2015</td>\n",
       "      <td>2.716190e+08</td>\n",
       "    </tr>\n",
       "  </tbody>\n",
       "</table>\n",
       "</div>"
      ],
      "text/plain": [
       "   popularity     budget     revenue      profit   roi      original_title  \\\n",
       "0       32.99  150000000  1513528810  1363528810  9.09      Jurassic World   \n",
       "1       28.42  150000000   378436354   228436354  1.52  Mad Max: Fury Road   \n",
       "2       13.11  110000000   295238201   185238201  1.68           Insurgent   \n",
       "\n",
       "           director                                           keywords  \\\n",
       "0   Colin Trevorrow  monster|dna|tyrannosaurus rex|velociraptor|island   \n",
       "1     George Miller   future|chase|post-apocalyptic|dystopia|australia   \n",
       "2  Robert Schwentke  based on novel|revolution|dystopia|sequel|dyst...   \n",
       "\n",
       "   runtime                                          genres  \\\n",
       "0      124  [Action, Adventure, Science Fiction, Thriller]   \n",
       "1      120  [Action, Adventure, Science Fiction, Thriller]   \n",
       "2      119          [Adventure, Science Fiction, Thriller]   \n",
       "\n",
       "                                production_companies release_date  vote_count  \\\n",
       "0  Universal Studios|Amblin Entertainment|Legenda...       6/9/15        5562   \n",
       "1  Village Roadshow Pictures|Kennedy Miller Produ...      5/13/15        6185   \n",
       "2  Summit Entertainment|Mandeville Films|Red Wago...      3/18/15        2480   \n",
       "\n",
       "   vote_average  release_year   revenue_adj  \n",
       "0           6.5          2015  1.392446e+09  \n",
       "1           7.1          2015  3.481613e+08  \n",
       "2           6.3          2015  2.716190e+08  "
      ]
     },
     "execution_count": 28,
     "metadata": {},
     "output_type": "execute_result"
    }
   ],
   "source": [
    "split = ['genres']\n",
    "for i in split:\n",
    "    df[i] = df[i].apply(lambda x: x.split(\"|\"))\n",
    "df.head(3)"
   ]
  },
  {
   "cell_type": "code",
   "execution_count": 29,
   "id": "7fbbf92b",
   "metadata": {},
   "outputs": [
    {
     "data": {
      "text/html": [
       "<div>\n",
       "<style scoped>\n",
       "    .dataframe tbody tr th:only-of-type {\n",
       "        vertical-align: middle;\n",
       "    }\n",
       "\n",
       "    .dataframe tbody tr th {\n",
       "        vertical-align: top;\n",
       "    }\n",
       "\n",
       "    .dataframe thead th {\n",
       "        text-align: right;\n",
       "    }\n",
       "</style>\n",
       "<table border=\"1\" class=\"dataframe\">\n",
       "  <thead>\n",
       "    <tr style=\"text-align: right;\">\n",
       "      <th></th>\n",
       "      <th>popularity</th>\n",
       "      <th>budget</th>\n",
       "      <th>revenue</th>\n",
       "      <th>profit</th>\n",
       "      <th>roi</th>\n",
       "      <th>original_title</th>\n",
       "      <th>director</th>\n",
       "      <th>keywords</th>\n",
       "      <th>runtime</th>\n",
       "      <th>genres</th>\n",
       "      <th>production_companies</th>\n",
       "      <th>release_date</th>\n",
       "      <th>vote_count</th>\n",
       "      <th>vote_average</th>\n",
       "      <th>release_year</th>\n",
       "      <th>revenue_adj</th>\n",
       "    </tr>\n",
       "  </thead>\n",
       "  <tbody>\n",
       "    <tr>\n",
       "      <th>0</th>\n",
       "      <td>32.99</td>\n",
       "      <td>150000000</td>\n",
       "      <td>1513528810</td>\n",
       "      <td>1363528810</td>\n",
       "      <td>9.09</td>\n",
       "      <td>Jurassic World</td>\n",
       "      <td>Colin Trevorrow</td>\n",
       "      <td>monster|dna|tyrannosaurus rex|velociraptor|island</td>\n",
       "      <td>124</td>\n",
       "      <td>Action</td>\n",
       "      <td>Universal Studios|Amblin Entertainment|Legenda...</td>\n",
       "      <td>6/9/15</td>\n",
       "      <td>5562</td>\n",
       "      <td>6.5</td>\n",
       "      <td>2015</td>\n",
       "      <td>1.392446e+09</td>\n",
       "    </tr>\n",
       "    <tr>\n",
       "      <th>0</th>\n",
       "      <td>32.99</td>\n",
       "      <td>150000000</td>\n",
       "      <td>1513528810</td>\n",
       "      <td>1363528810</td>\n",
       "      <td>9.09</td>\n",
       "      <td>Jurassic World</td>\n",
       "      <td>Colin Trevorrow</td>\n",
       "      <td>monster|dna|tyrannosaurus rex|velociraptor|island</td>\n",
       "      <td>124</td>\n",
       "      <td>Adventure</td>\n",
       "      <td>Universal Studios|Amblin Entertainment|Legenda...</td>\n",
       "      <td>6/9/15</td>\n",
       "      <td>5562</td>\n",
       "      <td>6.5</td>\n",
       "      <td>2015</td>\n",
       "      <td>1.392446e+09</td>\n",
       "    </tr>\n",
       "    <tr>\n",
       "      <th>0</th>\n",
       "      <td>32.99</td>\n",
       "      <td>150000000</td>\n",
       "      <td>1513528810</td>\n",
       "      <td>1363528810</td>\n",
       "      <td>9.09</td>\n",
       "      <td>Jurassic World</td>\n",
       "      <td>Colin Trevorrow</td>\n",
       "      <td>monster|dna|tyrannosaurus rex|velociraptor|island</td>\n",
       "      <td>124</td>\n",
       "      <td>Science Fiction</td>\n",
       "      <td>Universal Studios|Amblin Entertainment|Legenda...</td>\n",
       "      <td>6/9/15</td>\n",
       "      <td>5562</td>\n",
       "      <td>6.5</td>\n",
       "      <td>2015</td>\n",
       "      <td>1.392446e+09</td>\n",
       "    </tr>\n",
       "    <tr>\n",
       "      <th>0</th>\n",
       "      <td>32.99</td>\n",
       "      <td>150000000</td>\n",
       "      <td>1513528810</td>\n",
       "      <td>1363528810</td>\n",
       "      <td>9.09</td>\n",
       "      <td>Jurassic World</td>\n",
       "      <td>Colin Trevorrow</td>\n",
       "      <td>monster|dna|tyrannosaurus rex|velociraptor|island</td>\n",
       "      <td>124</td>\n",
       "      <td>Thriller</td>\n",
       "      <td>Universal Studios|Amblin Entertainment|Legenda...</td>\n",
       "      <td>6/9/15</td>\n",
       "      <td>5562</td>\n",
       "      <td>6.5</td>\n",
       "      <td>2015</td>\n",
       "      <td>1.392446e+09</td>\n",
       "    </tr>\n",
       "    <tr>\n",
       "      <th>1</th>\n",
       "      <td>28.42</td>\n",
       "      <td>150000000</td>\n",
       "      <td>378436354</td>\n",
       "      <td>228436354</td>\n",
       "      <td>1.52</td>\n",
       "      <td>Mad Max: Fury Road</td>\n",
       "      <td>George Miller</td>\n",
       "      <td>future|chase|post-apocalyptic|dystopia|australia</td>\n",
       "      <td>120</td>\n",
       "      <td>Action</td>\n",
       "      <td>Village Roadshow Pictures|Kennedy Miller Produ...</td>\n",
       "      <td>5/13/15</td>\n",
       "      <td>6185</td>\n",
       "      <td>7.1</td>\n",
       "      <td>2015</td>\n",
       "      <td>3.481613e+08</td>\n",
       "    </tr>\n",
       "    <tr>\n",
       "      <th>...</th>\n",
       "      <td>...</td>\n",
       "      <td>...</td>\n",
       "      <td>...</td>\n",
       "      <td>...</td>\n",
       "      <td>...</td>\n",
       "      <td>...</td>\n",
       "      <td>...</td>\n",
       "      <td>...</td>\n",
       "      <td>...</td>\n",
       "      <td>...</td>\n",
       "      <td>...</td>\n",
       "      <td>...</td>\n",
       "      <td>...</td>\n",
       "      <td>...</td>\n",
       "      <td>...</td>\n",
       "      <td>...</td>\n",
       "    </tr>\n",
       "    <tr>\n",
       "      <th>10863</th>\n",
       "      <td>0.07</td>\n",
       "      <td>0</td>\n",
       "      <td>0</td>\n",
       "      <td>0</td>\n",
       "      <td>NaN</td>\n",
       "      <td>Beregis Avtomobilya</td>\n",
       "      <td>Eldar Ryazanov</td>\n",
       "      <td>car|trolley|stealing car</td>\n",
       "      <td>94</td>\n",
       "      <td>Mystery</td>\n",
       "      <td>Mosfilm</td>\n",
       "      <td>1/1/66</td>\n",
       "      <td>11</td>\n",
       "      <td>6.5</td>\n",
       "      <td>1966</td>\n",
       "      <td>0.000000e+00</td>\n",
       "    </tr>\n",
       "    <tr>\n",
       "      <th>10863</th>\n",
       "      <td>0.07</td>\n",
       "      <td>0</td>\n",
       "      <td>0</td>\n",
       "      <td>0</td>\n",
       "      <td>NaN</td>\n",
       "      <td>Beregis Avtomobilya</td>\n",
       "      <td>Eldar Ryazanov</td>\n",
       "      <td>car|trolley|stealing car</td>\n",
       "      <td>94</td>\n",
       "      <td>Comedy</td>\n",
       "      <td>Mosfilm</td>\n",
       "      <td>1/1/66</td>\n",
       "      <td>11</td>\n",
       "      <td>6.5</td>\n",
       "      <td>1966</td>\n",
       "      <td>0.000000e+00</td>\n",
       "    </tr>\n",
       "    <tr>\n",
       "      <th>10864</th>\n",
       "      <td>0.06</td>\n",
       "      <td>0</td>\n",
       "      <td>0</td>\n",
       "      <td>0</td>\n",
       "      <td>NaN</td>\n",
       "      <td>What's Up, Tiger Lily?</td>\n",
       "      <td>Woody Allen</td>\n",
       "      <td>spoof</td>\n",
       "      <td>80</td>\n",
       "      <td>Action</td>\n",
       "      <td>Benedict Pictures Corp.</td>\n",
       "      <td>11/2/66</td>\n",
       "      <td>22</td>\n",
       "      <td>5.4</td>\n",
       "      <td>1966</td>\n",
       "      <td>0.000000e+00</td>\n",
       "    </tr>\n",
       "    <tr>\n",
       "      <th>10864</th>\n",
       "      <td>0.06</td>\n",
       "      <td>0</td>\n",
       "      <td>0</td>\n",
       "      <td>0</td>\n",
       "      <td>NaN</td>\n",
       "      <td>What's Up, Tiger Lily?</td>\n",
       "      <td>Woody Allen</td>\n",
       "      <td>spoof</td>\n",
       "      <td>80</td>\n",
       "      <td>Comedy</td>\n",
       "      <td>Benedict Pictures Corp.</td>\n",
       "      <td>11/2/66</td>\n",
       "      <td>22</td>\n",
       "      <td>5.4</td>\n",
       "      <td>1966</td>\n",
       "      <td>0.000000e+00</td>\n",
       "    </tr>\n",
       "    <tr>\n",
       "      <th>10865</th>\n",
       "      <td>0.04</td>\n",
       "      <td>19000</td>\n",
       "      <td>0</td>\n",
       "      <td>-19000</td>\n",
       "      <td>-1.00</td>\n",
       "      <td>Manos: The Hands of Fate</td>\n",
       "      <td>Harold P. Warren</td>\n",
       "      <td>fire|gun|drive|sacrifice|flashlight</td>\n",
       "      <td>74</td>\n",
       "      <td>Horror</td>\n",
       "      <td>Norm-Iris</td>\n",
       "      <td>11/15/66</td>\n",
       "      <td>15</td>\n",
       "      <td>1.5</td>\n",
       "      <td>1966</td>\n",
       "      <td>0.000000e+00</td>\n",
       "    </tr>\n",
       "  </tbody>\n",
       "</table>\n",
       "<p>26869 rows × 16 columns</p>\n",
       "</div>"
      ],
      "text/plain": [
       "       popularity     budget     revenue      profit   roi  \\\n",
       "0           32.99  150000000  1513528810  1363528810  9.09   \n",
       "0           32.99  150000000  1513528810  1363528810  9.09   \n",
       "0           32.99  150000000  1513528810  1363528810  9.09   \n",
       "0           32.99  150000000  1513528810  1363528810  9.09   \n",
       "1           28.42  150000000   378436354   228436354  1.52   \n",
       "...           ...        ...         ...         ...   ...   \n",
       "10863        0.07          0           0           0   NaN   \n",
       "10863        0.07          0           0           0   NaN   \n",
       "10864        0.06          0           0           0   NaN   \n",
       "10864        0.06          0           0           0   NaN   \n",
       "10865        0.04      19000           0      -19000 -1.00   \n",
       "\n",
       "                 original_title          director  \\\n",
       "0                Jurassic World   Colin Trevorrow   \n",
       "0                Jurassic World   Colin Trevorrow   \n",
       "0                Jurassic World   Colin Trevorrow   \n",
       "0                Jurassic World   Colin Trevorrow   \n",
       "1            Mad Max: Fury Road     George Miller   \n",
       "...                         ...               ...   \n",
       "10863       Beregis Avtomobilya    Eldar Ryazanov   \n",
       "10863       Beregis Avtomobilya    Eldar Ryazanov   \n",
       "10864    What's Up, Tiger Lily?       Woody Allen   \n",
       "10864    What's Up, Tiger Lily?       Woody Allen   \n",
       "10865  Manos: The Hands of Fate  Harold P. Warren   \n",
       "\n",
       "                                                keywords  runtime  \\\n",
       "0      monster|dna|tyrannosaurus rex|velociraptor|island      124   \n",
       "0      monster|dna|tyrannosaurus rex|velociraptor|island      124   \n",
       "0      monster|dna|tyrannosaurus rex|velociraptor|island      124   \n",
       "0      monster|dna|tyrannosaurus rex|velociraptor|island      124   \n",
       "1       future|chase|post-apocalyptic|dystopia|australia      120   \n",
       "...                                                  ...      ...   \n",
       "10863                           car|trolley|stealing car       94   \n",
       "10863                           car|trolley|stealing car       94   \n",
       "10864                                              spoof       80   \n",
       "10864                                              spoof       80   \n",
       "10865                fire|gun|drive|sacrifice|flashlight       74   \n",
       "\n",
       "                genres                               production_companies  \\\n",
       "0               Action  Universal Studios|Amblin Entertainment|Legenda...   \n",
       "0            Adventure  Universal Studios|Amblin Entertainment|Legenda...   \n",
       "0      Science Fiction  Universal Studios|Amblin Entertainment|Legenda...   \n",
       "0             Thriller  Universal Studios|Amblin Entertainment|Legenda...   \n",
       "1               Action  Village Roadshow Pictures|Kennedy Miller Produ...   \n",
       "...                ...                                                ...   \n",
       "10863          Mystery                                            Mosfilm   \n",
       "10863           Comedy                                            Mosfilm   \n",
       "10864           Action                            Benedict Pictures Corp.   \n",
       "10864           Comedy                            Benedict Pictures Corp.   \n",
       "10865           Horror                                          Norm-Iris   \n",
       "\n",
       "      release_date  vote_count  vote_average  release_year   revenue_adj  \n",
       "0           6/9/15        5562           6.5          2015  1.392446e+09  \n",
       "0           6/9/15        5562           6.5          2015  1.392446e+09  \n",
       "0           6/9/15        5562           6.5          2015  1.392446e+09  \n",
       "0           6/9/15        5562           6.5          2015  1.392446e+09  \n",
       "1          5/13/15        6185           7.1          2015  3.481613e+08  \n",
       "...            ...         ...           ...           ...           ...  \n",
       "10863       1/1/66          11           6.5          1966  0.000000e+00  \n",
       "10863       1/1/66          11           6.5          1966  0.000000e+00  \n",
       "10864      11/2/66          22           5.4          1966  0.000000e+00  \n",
       "10864      11/2/66          22           5.4          1966  0.000000e+00  \n",
       "10865     11/15/66          15           1.5          1966  0.000000e+00  \n",
       "\n",
       "[26869 rows x 16 columns]"
      ]
     },
     "execution_count": 29,
     "metadata": {},
     "output_type": "execute_result"
    }
   ],
   "source": [
    "df = df.explode('genres')\n",
    "df"
   ]
  },
  {
   "cell_type": "code",
   "execution_count": 30,
   "id": "24c3a9d6",
   "metadata": {},
   "outputs": [
    {
     "data": {
      "text/plain": [
       "genres\n",
       "Foreign              35.24\n",
       "TV Movie             44.03\n",
       "Documentary          93.13\n",
       "Western              97.42\n",
       "History             192.35\n",
       "War                 196.48\n",
       "Music               198.15\n",
       "Mystery             558.55\n",
       "Animation           594.46\n",
       "Horror              761.39\n",
       "Fantasy             908.87\n",
       "Family              967.06\n",
       "Crime              1009.07\n",
       "Romance            1013.21\n",
       "Science Fiction    1230.41\n",
       "Adventure          1697.11\n",
       "Thriller           2155.90\n",
       "Action             2208.08\n",
       "Comedy             2246.25\n",
       "Drama              2815.43\n",
       "Name: popularity, dtype: float64"
      ]
     },
     "execution_count": 30,
     "metadata": {},
     "output_type": "execute_result"
    }
   ],
   "source": [
    "df7 = df.groupby('genres')['popularity'].sum().sort_values(ascending=True)\n",
    "df7"
   ]
  },
  {
   "cell_type": "code",
   "execution_count": 31,
   "id": "fdc01f21",
   "metadata": {},
   "outputs": [
    {
     "data": {
      "text/plain": [
       "<Axes: ylabel='genres'>"
      ]
     },
     "execution_count": 31,
     "metadata": {},
     "output_type": "execute_result"
    },
    {
     "data": {
      "image/png": "[encoded data removed]",
      "text/plain": [
       "<Figure size 1200x600 with 1 Axes>"
      ]
     },
     "metadata": {},
     "output_type": "display_data"
    }
   ],
   "source": [
    "# hor bar plot depicting the popularity of each genre\n",
    "\n",
    "df7.plot.barh(x='genres',y='popularity',color='yellow',figsize=(12,6))"
   ]
  },
  {
   "cell_type": "code",
   "execution_count": 32,
   "id": "2446da0c",
   "metadata": {},
   "outputs": [
    {
     "data": {
      "text/plain": [
       "popularity              float64\n",
       "budget                    int64\n",
       "revenue                   int64\n",
       "profit                    int64\n",
       "roi                     float64\n",
       "original_title           object\n",
       "director                 object\n",
       "keywords                 object\n",
       "runtime                   int64\n",
       "genres                   object\n",
       "production_companies     object\n",
       "release_date             object\n",
       "vote_count                int64\n",
       "vote_average            float64\n",
       "release_year              int64\n",
       "revenue_adj             float64\n",
       "dtype: object"
      ]
     },
     "execution_count": 32,
     "metadata": {},
     "output_type": "execute_result"
    }
   ],
   "source": [
    "df.dtypes"
   ]
  },
  {
   "cell_type": "code",
   "execution_count": 33,
   "id": "ec4ad62f",
   "metadata": {},
   "outputs": [
    {
     "name": "stderr",
     "output_type": "stream",
     "text": [
      "C:\\Users\\DELL\\AppData\\Local\\Temp\\ipykernel_11004\\810435582.py:2: UserWarning: Could not infer format, so each element will be parsed individually, falling back to `dateutil`. To ensure parsing is consistent and as-expected, please specify a format.\n",
      "  df['release_date'] = pd.to_datetime(df['release_date'])\n"
     ]
    }
   ],
   "source": [
    "# converting release_date datetime format\n",
    "df['release_date'] = pd.to_datetime(df['release_date'])"
   ]
  },
  {
   "cell_type": "code",
   "execution_count": 34,
   "id": "df01fa1e",
   "metadata": {},
   "outputs": [
    {
     "data": {
      "text/plain": [
       "popularity                     float64\n",
       "budget                           int64\n",
       "revenue                          int64\n",
       "profit                           int64\n",
       "roi                            float64\n",
       "original_title                  object\n",
       "director                        object\n",
       "keywords                        object\n",
       "runtime                          int64\n",
       "genres                          object\n",
       "production_companies            object\n",
       "release_date            datetime64[ns]\n",
       "vote_count                       int64\n",
       "vote_average                   float64\n",
       "release_year                     int64\n",
       "revenue_adj                    float64\n",
       "dtype: object"
      ]
     },
     "execution_count": 34,
     "metadata": {},
     "output_type": "execute_result"
    }
   ],
   "source": [
    "# checking dtypes\n",
    "df.dtypes"
   ]
  },
  {
   "cell_type": "code",
   "execution_count": 35,
   "id": "75686c68",
   "metadata": {},
   "outputs": [
    {
     "data": {
      "text/html": [
       "<div>\n",
       "<style scoped>\n",
       "    .dataframe tbody tr th:only-of-type {\n",
       "        vertical-align: middle;\n",
       "    }\n",
       "\n",
       "    .dataframe tbody tr th {\n",
       "        vertical-align: top;\n",
       "    }\n",
       "\n",
       "    .dataframe thead th {\n",
       "        text-align: right;\n",
       "    }\n",
       "</style>\n",
       "<table border=\"1\" class=\"dataframe\">\n",
       "  <thead>\n",
       "    <tr style=\"text-align: right;\">\n",
       "      <th></th>\n",
       "      <th>popularity</th>\n",
       "      <th>budget</th>\n",
       "      <th>revenue</th>\n",
       "      <th>profit</th>\n",
       "      <th>roi</th>\n",
       "      <th>original_title</th>\n",
       "      <th>director</th>\n",
       "      <th>keywords</th>\n",
       "      <th>runtime</th>\n",
       "      <th>genres</th>\n",
       "      <th>production_companies</th>\n",
       "      <th>release_date</th>\n",
       "      <th>vote_count</th>\n",
       "      <th>vote_average</th>\n",
       "      <th>release_year</th>\n",
       "      <th>revenue_adj</th>\n",
       "    </tr>\n",
       "  </thead>\n",
       "  <tbody>\n",
       "    <tr>\n",
       "      <th>0</th>\n",
       "      <td>32.99</td>\n",
       "      <td>150000000</td>\n",
       "      <td>1513528810</td>\n",
       "      <td>1363528810</td>\n",
       "      <td>9.09</td>\n",
       "      <td>Jurassic World</td>\n",
       "      <td>Colin Trevorrow</td>\n",
       "      <td>monster|dna|tyrannosaurus rex|velociraptor|island</td>\n",
       "      <td>124</td>\n",
       "      <td>Action</td>\n",
       "      <td>Universal Studios|Amblin Entertainment|Legenda...</td>\n",
       "      <td>2015-06-09</td>\n",
       "      <td>5562</td>\n",
       "      <td>6.5</td>\n",
       "      <td>2015</td>\n",
       "      <td>1.392446e+09</td>\n",
       "    </tr>\n",
       "  </tbody>\n",
       "</table>\n",
       "</div>"
      ],
      "text/plain": [
       "   popularity     budget     revenue      profit   roi  original_title  \\\n",
       "0       32.99  150000000  1513528810  1363528810  9.09  Jurassic World   \n",
       "\n",
       "          director                                           keywords  \\\n",
       "0  Colin Trevorrow  monster|dna|tyrannosaurus rex|velociraptor|island   \n",
       "\n",
       "   runtime  genres                               production_companies  \\\n",
       "0      124  Action  Universal Studios|Amblin Entertainment|Legenda...   \n",
       "\n",
       "  release_date  vote_count  vote_average  release_year   revenue_adj  \n",
       "0   2015-06-09        5562           6.5          2015  1.392446e+09  "
      ]
     },
     "execution_count": 35,
     "metadata": {},
     "output_type": "execute_result"
    }
   ],
   "source": [
    "df.head(1)"
   ]
  },
  {
   "cell_type": "code",
   "execution_count": 36,
   "id": "467dc37f",
   "metadata": {},
   "outputs": [],
   "source": [
    "#extracts the month component from release date\n",
    "df['month'] = df['release_date'].dt.month"
   ]
  },
  {
   "cell_type": "code",
   "execution_count": 37,
   "id": "2be0ba40",
   "metadata": {},
   "outputs": [
    {
     "data": {
      "text/plain": [
       "<Axes: xlabel='month'>"
      ]
     },
     "execution_count": 37,
     "metadata": {},
     "output_type": "execute_result"
    },
    {
     "data": {
      "image/png": "[encoded data removed]",
      "text/plain": [
       "<Figure size 640x480 with 1 Axes>"
      ]
     },
     "metadata": {},
     "output_type": "display_data"
    }
   ],
   "source": [
    "# plot bar graph of total popularity for each month\n",
    "\n",
    "df8 = df.groupby('month')['popularity'].sum()\n",
    "df8.plot(kind='bar')"
   ]
  },
  {
   "cell_type": "code",
   "execution_count": 38,
   "id": "9be9506e",
   "metadata": {},
   "outputs": [
    {
     "data": {
      "text/plain": [
       "Index([1, 2, 3, 4, 5, 6, 7, 8, 9, 10, 11, 12], dtype='int32', name='month')"
      ]
     },
     "execution_count": 38,
     "metadata": {},
     "output_type": "execute_result"
    }
   ],
   "source": [
    "df8.index"
   ]
  },
  {
   "cell_type": "markdown",
   "id": "6b87b52a",
   "metadata": {},
   "source": [
    "#### Creating df8 from a dictionary data containing month & popularity from previous df8"
   ]
  },
  {
   "cell_type": "code",
   "execution_count": 39,
   "id": "4b22a0e3",
   "metadata": {},
   "outputs": [],
   "source": [
    "data = {\n",
    "    'month': df8.index,\n",
    "    'popularity': df8.values\n",
    "}\n",
    "df8 = pd.DataFrame(data)"
   ]
  },
  {
   "cell_type": "code",
   "execution_count": 40,
   "id": "82a49903",
   "metadata": {},
   "outputs": [],
   "source": [
    "index_to_month = {\n",
    "    1: 'Jan', 2: 'Feb', 3: 'Mar', 4: 'Apr', 5: 'May', 6: 'Jun',\n",
    "    7: 'Jul', 8: 'Aug', 9: 'Sep', 10: 'Oct', 11: 'Nov', 12: 'Dec'\n",
    "}"
   ]
  },
  {
   "cell_type": "code",
   "execution_count": 41,
   "id": "4eccdf7a",
   "metadata": {},
   "outputs": [
    {
     "data": {
      "text/html": [
       "<div>\n",
       "<style scoped>\n",
       "    .dataframe tbody tr th:only-of-type {\n",
       "        vertical-align: middle;\n",
       "    }\n",
       "\n",
       "    .dataframe tbody tr th {\n",
       "        vertical-align: top;\n",
       "    }\n",
       "\n",
       "    .dataframe thead th {\n",
       "        text-align: right;\n",
       "    }\n",
       "</style>\n",
       "<table border=\"1\" class=\"dataframe\">\n",
       "  <thead>\n",
       "    <tr style=\"text-align: right;\">\n",
       "      <th></th>\n",
       "      <th>popularity</th>\n",
       "      <th>budget</th>\n",
       "      <th>revenue</th>\n",
       "      <th>profit</th>\n",
       "      <th>roi</th>\n",
       "      <th>original_title</th>\n",
       "      <th>director</th>\n",
       "      <th>keywords</th>\n",
       "      <th>runtime</th>\n",
       "      <th>genres</th>\n",
       "      <th>production_companies</th>\n",
       "      <th>release_date</th>\n",
       "      <th>vote_count</th>\n",
       "      <th>vote_average</th>\n",
       "      <th>release_year</th>\n",
       "      <th>revenue_adj</th>\n",
       "      <th>month</th>\n",
       "    </tr>\n",
       "  </thead>\n",
       "  <tbody>\n",
       "    <tr>\n",
       "      <th>0</th>\n",
       "      <td>32.99</td>\n",
       "      <td>150000000</td>\n",
       "      <td>1513528810</td>\n",
       "      <td>1363528810</td>\n",
       "      <td>9.09</td>\n",
       "      <td>Jurassic World</td>\n",
       "      <td>Colin Trevorrow</td>\n",
       "      <td>monster|dna|tyrannosaurus rex|velociraptor|island</td>\n",
       "      <td>124</td>\n",
       "      <td>Action</td>\n",
       "      <td>Universal Studios|Amblin Entertainment|Legenda...</td>\n",
       "      <td>2015-06-09</td>\n",
       "      <td>5562</td>\n",
       "      <td>6.5</td>\n",
       "      <td>2015</td>\n",
       "      <td>1.392446e+09</td>\n",
       "      <td>6</td>\n",
       "    </tr>\n",
       "    <tr>\n",
       "      <th>0</th>\n",
       "      <td>32.99</td>\n",
       "      <td>150000000</td>\n",
       "      <td>1513528810</td>\n",
       "      <td>1363528810</td>\n",
       "      <td>9.09</td>\n",
       "      <td>Jurassic World</td>\n",
       "      <td>Colin Trevorrow</td>\n",
       "      <td>monster|dna|tyrannosaurus rex|velociraptor|island</td>\n",
       "      <td>124</td>\n",
       "      <td>Adventure</td>\n",
       "      <td>Universal Studios|Amblin Entertainment|Legenda...</td>\n",
       "      <td>2015-06-09</td>\n",
       "      <td>5562</td>\n",
       "      <td>6.5</td>\n",
       "      <td>2015</td>\n",
       "      <td>1.392446e+09</td>\n",
       "      <td>6</td>\n",
       "    </tr>\n",
       "    <tr>\n",
       "      <th>0</th>\n",
       "      <td>32.99</td>\n",
       "      <td>150000000</td>\n",
       "      <td>1513528810</td>\n",
       "      <td>1363528810</td>\n",
       "      <td>9.09</td>\n",
       "      <td>Jurassic World</td>\n",
       "      <td>Colin Trevorrow</td>\n",
       "      <td>monster|dna|tyrannosaurus rex|velociraptor|island</td>\n",
       "      <td>124</td>\n",
       "      <td>Science Fiction</td>\n",
       "      <td>Universal Studios|Amblin Entertainment|Legenda...</td>\n",
       "      <td>2015-06-09</td>\n",
       "      <td>5562</td>\n",
       "      <td>6.5</td>\n",
       "      <td>2015</td>\n",
       "      <td>1.392446e+09</td>\n",
       "      <td>6</td>\n",
       "    </tr>\n",
       "    <tr>\n",
       "      <th>0</th>\n",
       "      <td>32.99</td>\n",
       "      <td>150000000</td>\n",
       "      <td>1513528810</td>\n",
       "      <td>1363528810</td>\n",
       "      <td>9.09</td>\n",
       "      <td>Jurassic World</td>\n",
       "      <td>Colin Trevorrow</td>\n",
       "      <td>monster|dna|tyrannosaurus rex|velociraptor|island</td>\n",
       "      <td>124</td>\n",
       "      <td>Thriller</td>\n",
       "      <td>Universal Studios|Amblin Entertainment|Legenda...</td>\n",
       "      <td>2015-06-09</td>\n",
       "      <td>5562</td>\n",
       "      <td>6.5</td>\n",
       "      <td>2015</td>\n",
       "      <td>1.392446e+09</td>\n",
       "      <td>6</td>\n",
       "    </tr>\n",
       "    <tr>\n",
       "      <th>1</th>\n",
       "      <td>28.42</td>\n",
       "      <td>150000000</td>\n",
       "      <td>378436354</td>\n",
       "      <td>228436354</td>\n",
       "      <td>1.52</td>\n",
       "      <td>Mad Max: Fury Road</td>\n",
       "      <td>George Miller</td>\n",
       "      <td>future|chase|post-apocalyptic|dystopia|australia</td>\n",
       "      <td>120</td>\n",
       "      <td>Action</td>\n",
       "      <td>Village Roadshow Pictures|Kennedy Miller Produ...</td>\n",
       "      <td>2015-05-13</td>\n",
       "      <td>6185</td>\n",
       "      <td>7.1</td>\n",
       "      <td>2015</td>\n",
       "      <td>3.481613e+08</td>\n",
       "      <td>5</td>\n",
       "    </tr>\n",
       "    <tr>\n",
       "      <th>...</th>\n",
       "      <td>...</td>\n",
       "      <td>...</td>\n",
       "      <td>...</td>\n",
       "      <td>...</td>\n",
       "      <td>...</td>\n",
       "      <td>...</td>\n",
       "      <td>...</td>\n",
       "      <td>...</td>\n",
       "      <td>...</td>\n",
       "      <td>...</td>\n",
       "      <td>...</td>\n",
       "      <td>...</td>\n",
       "      <td>...</td>\n",
       "      <td>...</td>\n",
       "      <td>...</td>\n",
       "      <td>...</td>\n",
       "      <td>...</td>\n",
       "    </tr>\n",
       "    <tr>\n",
       "      <th>10863</th>\n",
       "      <td>0.07</td>\n",
       "      <td>0</td>\n",
       "      <td>0</td>\n",
       "      <td>0</td>\n",
       "      <td>NaN</td>\n",
       "      <td>Beregis Avtomobilya</td>\n",
       "      <td>Eldar Ryazanov</td>\n",
       "      <td>car|trolley|stealing car</td>\n",
       "      <td>94</td>\n",
       "      <td>Mystery</td>\n",
       "      <td>Mosfilm</td>\n",
       "      <td>2066-01-01</td>\n",
       "      <td>11</td>\n",
       "      <td>6.5</td>\n",
       "      <td>1966</td>\n",
       "      <td>0.000000e+00</td>\n",
       "      <td>1</td>\n",
       "    </tr>\n",
       "    <tr>\n",
       "      <th>10863</th>\n",
       "      <td>0.07</td>\n",
       "      <td>0</td>\n",
       "      <td>0</td>\n",
       "      <td>0</td>\n",
       "      <td>NaN</td>\n",
       "      <td>Beregis Avtomobilya</td>\n",
       "      <td>Eldar Ryazanov</td>\n",
       "      <td>car|trolley|stealing car</td>\n",
       "      <td>94</td>\n",
       "      <td>Comedy</td>\n",
       "      <td>Mosfilm</td>\n",
       "      <td>2066-01-01</td>\n",
       "      <td>11</td>\n",
       "      <td>6.5</td>\n",
       "      <td>1966</td>\n",
       "      <td>0.000000e+00</td>\n",
       "      <td>1</td>\n",
       "    </tr>\n",
       "    <tr>\n",
       "      <th>10864</th>\n",
       "      <td>0.06</td>\n",
       "      <td>0</td>\n",
       "      <td>0</td>\n",
       "      <td>0</td>\n",
       "      <td>NaN</td>\n",
       "      <td>What's Up, Tiger Lily?</td>\n",
       "      <td>Woody Allen</td>\n",
       "      <td>spoof</td>\n",
       "      <td>80</td>\n",
       "      <td>Action</td>\n",
       "      <td>Benedict Pictures Corp.</td>\n",
       "      <td>2066-11-02</td>\n",
       "      <td>22</td>\n",
       "      <td>5.4</td>\n",
       "      <td>1966</td>\n",
       "      <td>0.000000e+00</td>\n",
       "      <td>11</td>\n",
       "    </tr>\n",
       "    <tr>\n",
       "      <th>10864</th>\n",
       "      <td>0.06</td>\n",
       "      <td>0</td>\n",
       "      <td>0</td>\n",
       "      <td>0</td>\n",
       "      <td>NaN</td>\n",
       "      <td>What's Up, Tiger Lily?</td>\n",
       "      <td>Woody Allen</td>\n",
       "      <td>spoof</td>\n",
       "      <td>80</td>\n",
       "      <td>Comedy</td>\n",
       "      <td>Benedict Pictures Corp.</td>\n",
       "      <td>2066-11-02</td>\n",
       "      <td>22</td>\n",
       "      <td>5.4</td>\n",
       "      <td>1966</td>\n",
       "      <td>0.000000e+00</td>\n",
       "      <td>11</td>\n",
       "    </tr>\n",
       "    <tr>\n",
       "      <th>10865</th>\n",
       "      <td>0.04</td>\n",
       "      <td>19000</td>\n",
       "      <td>0</td>\n",
       "      <td>-19000</td>\n",
       "      <td>-1.00</td>\n",
       "      <td>Manos: The Hands of Fate</td>\n",
       "      <td>Harold P. Warren</td>\n",
       "      <td>fire|gun|drive|sacrifice|flashlight</td>\n",
       "      <td>74</td>\n",
       "      <td>Horror</td>\n",
       "      <td>Norm-Iris</td>\n",
       "      <td>2066-11-15</td>\n",
       "      <td>15</td>\n",
       "      <td>1.5</td>\n",
       "      <td>1966</td>\n",
       "      <td>0.000000e+00</td>\n",
       "      <td>11</td>\n",
       "    </tr>\n",
       "  </tbody>\n",
       "</table>\n",
       "<p>26869 rows × 17 columns</p>\n",
       "</div>"
      ],
      "text/plain": [
       "       popularity     budget     revenue      profit   roi  \\\n",
       "0           32.99  150000000  1513528810  1363528810  9.09   \n",
       "0           32.99  150000000  1513528810  1363528810  9.09   \n",
       "0           32.99  150000000  1513528810  1363528810  9.09   \n",
       "0           32.99  150000000  1513528810  1363528810  9.09   \n",
       "1           28.42  150000000   378436354   228436354  1.52   \n",
       "...           ...        ...         ...         ...   ...   \n",
       "10863        0.07          0           0           0   NaN   \n",
       "10863        0.07          0           0           0   NaN   \n",
       "10864        0.06          0           0           0   NaN   \n",
       "10864        0.06          0           0           0   NaN   \n",
       "10865        0.04      19000           0      -19000 -1.00   \n",
       "\n",
       "                 original_title          director  \\\n",
       "0                Jurassic World   Colin Trevorrow   \n",
       "0                Jurassic World   Colin Trevorrow   \n",
       "0                Jurassic World   Colin Trevorrow   \n",
       "0                Jurassic World   Colin Trevorrow   \n",
       "1            Mad Max: Fury Road     George Miller   \n",
       "...                         ...               ...   \n",
       "10863       Beregis Avtomobilya    Eldar Ryazanov   \n",
       "10863       Beregis Avtomobilya    Eldar Ryazanov   \n",
       "10864    What's Up, Tiger Lily?       Woody Allen   \n",
       "10864    What's Up, Tiger Lily?       Woody Allen   \n",
       "10865  Manos: The Hands of Fate  Harold P. Warren   \n",
       "\n",
       "                                                keywords  runtime  \\\n",
       "0      monster|dna|tyrannosaurus rex|velociraptor|island      124   \n",
       "0      monster|dna|tyrannosaurus rex|velociraptor|island      124   \n",
       "0      monster|dna|tyrannosaurus rex|velociraptor|island      124   \n",
       "0      monster|dna|tyrannosaurus rex|velociraptor|island      124   \n",
       "1       future|chase|post-apocalyptic|dystopia|australia      120   \n",
       "...                                                  ...      ...   \n",
       "10863                           car|trolley|stealing car       94   \n",
       "10863                           car|trolley|stealing car       94   \n",
       "10864                                              spoof       80   \n",
       "10864                                              spoof       80   \n",
       "10865                fire|gun|drive|sacrifice|flashlight       74   \n",
       "\n",
       "                genres                               production_companies  \\\n",
       "0               Action  Universal Studios|Amblin Entertainment|Legenda...   \n",
       "0            Adventure  Universal Studios|Amblin Entertainment|Legenda...   \n",
       "0      Science Fiction  Universal Studios|Amblin Entertainment|Legenda...   \n",
       "0             Thriller  Universal Studios|Amblin Entertainment|Legenda...   \n",
       "1               Action  Village Roadshow Pictures|Kennedy Miller Produ...   \n",
       "...                ...                                                ...   \n",
       "10863          Mystery                                            Mosfilm   \n",
       "10863           Comedy                                            Mosfilm   \n",
       "10864           Action                            Benedict Pictures Corp.   \n",
       "10864           Comedy                            Benedict Pictures Corp.   \n",
       "10865           Horror                                          Norm-Iris   \n",
       "\n",
       "      release_date  vote_count  vote_average  release_year   revenue_adj  \\\n",
       "0       2015-06-09        5562           6.5          2015  1.392446e+09   \n",
       "0       2015-06-09        5562           6.5          2015  1.392446e+09   \n",
       "0       2015-06-09        5562           6.5          2015  1.392446e+09   \n",
       "0       2015-06-09        5562           6.5          2015  1.392446e+09   \n",
       "1       2015-05-13        6185           7.1          2015  3.481613e+08   \n",
       "...            ...         ...           ...           ...           ...   \n",
       "10863   2066-01-01          11           6.5          1966  0.000000e+00   \n",
       "10863   2066-01-01          11           6.5          1966  0.000000e+00   \n",
       "10864   2066-11-02          22           5.4          1966  0.000000e+00   \n",
       "10864   2066-11-02          22           5.4          1966  0.000000e+00   \n",
       "10865   2066-11-15          15           1.5          1966  0.000000e+00   \n",
       "\n",
       "       month  \n",
       "0          6  \n",
       "0          6  \n",
       "0          6  \n",
       "0          6  \n",
       "1          5  \n",
       "...      ...  \n",
       "10863      1  \n",
       "10863      1  \n",
       "10864     11  \n",
       "10864     11  \n",
       "10865     11  \n",
       "\n",
       "[26869 rows x 17 columns]"
      ]
     },
     "execution_count": 41,
     "metadata": {},
     "output_type": "execute_result"
    }
   ],
   "source": [
    "# maps the numerical month values in the month and update it\n",
    "\n",
    "df8['month'] = df8['month'].map(index_to_month)\n",
    "df"
   ]
  },
  {
   "cell_type": "code",
   "execution_count": 42,
   "id": "a856bf54",
   "metadata": {},
   "outputs": [
    {
     "data": {
      "text/plain": [
       "<Axes: xlabel='month'>"
      ]
     },
     "execution_count": 42,
     "metadata": {},
     "output_type": "execute_result"
    },
    {
     "data": {
      "image/png": "[encoded data removed]",
      "text/plain": [
       "<Figure size 640x480 with 1 Axes>"
      ]
     },
     "metadata": {},
     "output_type": "display_data"
    }
   ],
   "source": [
    "# Generate a bar plot with popularity and month\n",
    "\n",
    "df8.plot(kind='bar', x='month', y='popularity', color='darkblue')"
   ]
  },
  {
   "cell_type": "code",
   "execution_count": 43,
   "id": "376d49cc",
   "metadata": {},
   "outputs": [
    {
     "data": {
      "text/plain": [
       "month\n",
       "1      35873456579\n",
       "2      54352852344\n",
       "3      93669046441\n",
       "4      77813179749\n",
       "5     151475532493\n",
       "6     193681776686\n",
       "7     141947570995\n",
       "8      71642408883\n",
       "9      70379641581\n",
       "10     84054172048\n",
       "11    139176268899\n",
       "12    164738399960\n",
       "Name: revenue, dtype: int64"
      ]
     },
     "execution_count": 43,
     "metadata": {},
     "output_type": "execute_result"
    }
   ],
   "source": [
    "df9 = df.groupby('month')['revenue'].sum()\n",
    "df9"
   ]
  },
  {
   "cell_type": "code",
   "execution_count": 44,
   "id": "27292d0d",
   "metadata": {},
   "outputs": [],
   "source": [
    "data = {\n",
    "    'month': df8.index,\n",
    "    'revenue': df9.values\n",
    "}\n",
    "df9 = pd.DataFrame(data)"
   ]
  },
  {
   "cell_type": "code",
   "execution_count": 45,
   "id": "17fbe7db",
   "metadata": {},
   "outputs": [],
   "source": [
    "index_to_month = {\n",
    "    0: 'Jan', 1: 'Feb', 2: 'Mar', 3: 'Apr', 4: 'May', 5: 'Jun',\n",
    "    6: 'Jul', 7: 'Aug', 8: 'Sep', 9: 'Oct', 10: 'Nov', 11: 'Dec'\n",
    "}"
   ]
  },
  {
   "cell_type": "code",
   "execution_count": 46,
   "id": "d3d44c1e",
   "metadata": {},
   "outputs": [],
   "source": [
    "df9['month'] = df9['month'].map(index_to_month)"
   ]
  },
  {
   "cell_type": "code",
   "execution_count": 47,
   "id": "c8898b72",
   "metadata": {},
   "outputs": [
    {
     "data": {
      "text/html": [
       "<div>\n",
       "<style scoped>\n",
       "    .dataframe tbody tr th:only-of-type {\n",
       "        vertical-align: middle;\n",
       "    }\n",
       "\n",
       "    .dataframe tbody tr th {\n",
       "        vertical-align: top;\n",
       "    }\n",
       "\n",
       "    .dataframe thead th {\n",
       "        text-align: right;\n",
       "    }\n",
       "</style>\n",
       "<table border=\"1\" class=\"dataframe\">\n",
       "  <thead>\n",
       "    <tr style=\"text-align: right;\">\n",
       "      <th></th>\n",
       "      <th>month</th>\n",
       "      <th>revenue</th>\n",
       "    </tr>\n",
       "  </thead>\n",
       "  <tbody>\n",
       "    <tr>\n",
       "      <th>0</th>\n",
       "      <td>Jan</td>\n",
       "      <td>35873456579</td>\n",
       "    </tr>\n",
       "    <tr>\n",
       "      <th>1</th>\n",
       "      <td>Feb</td>\n",
       "      <td>54352852344</td>\n",
       "    </tr>\n",
       "    <tr>\n",
       "      <th>2</th>\n",
       "      <td>Mar</td>\n",
       "      <td>93669046441</td>\n",
       "    </tr>\n",
       "    <tr>\n",
       "      <th>3</th>\n",
       "      <td>Apr</td>\n",
       "      <td>77813179749</td>\n",
       "    </tr>\n",
       "    <tr>\n",
       "      <th>4</th>\n",
       "      <td>May</td>\n",
       "      <td>151475532493</td>\n",
       "    </tr>\n",
       "    <tr>\n",
       "      <th>5</th>\n",
       "      <td>Jun</td>\n",
       "      <td>193681776686</td>\n",
       "    </tr>\n",
       "    <tr>\n",
       "      <th>6</th>\n",
       "      <td>Jul</td>\n",
       "      <td>141947570995</td>\n",
       "    </tr>\n",
       "    <tr>\n",
       "      <th>7</th>\n",
       "      <td>Aug</td>\n",
       "      <td>71642408883</td>\n",
       "    </tr>\n",
       "    <tr>\n",
       "      <th>8</th>\n",
       "      <td>Sep</td>\n",
       "      <td>70379641581</td>\n",
       "    </tr>\n",
       "    <tr>\n",
       "      <th>9</th>\n",
       "      <td>Oct</td>\n",
       "      <td>84054172048</td>\n",
       "    </tr>\n",
       "    <tr>\n",
       "      <th>10</th>\n",
       "      <td>Nov</td>\n",
       "      <td>139176268899</td>\n",
       "    </tr>\n",
       "    <tr>\n",
       "      <th>11</th>\n",
       "      <td>Dec</td>\n",
       "      <td>164738399960</td>\n",
       "    </tr>\n",
       "  </tbody>\n",
       "</table>\n",
       "</div>"
      ],
      "text/plain": [
       "   month       revenue\n",
       "0    Jan   35873456579\n",
       "1    Feb   54352852344\n",
       "2    Mar   93669046441\n",
       "3    Apr   77813179749\n",
       "4    May  151475532493\n",
       "5    Jun  193681776686\n",
       "6    Jul  141947570995\n",
       "7    Aug   71642408883\n",
       "8    Sep   70379641581\n",
       "9    Oct   84054172048\n",
       "10   Nov  139176268899\n",
       "11   Dec  164738399960"
      ]
     },
     "execution_count": 47,
     "metadata": {},
     "output_type": "execute_result"
    }
   ],
   "source": [
    "df9"
   ]
  },
  {
   "cell_type": "code",
   "execution_count": 48,
   "id": "cf79223e",
   "metadata": {},
   "outputs": [
    {
     "data": {
      "image/png": "[encoded data removed]",
      "text/plain": [
       "<Figure size 640x480 with 1 Axes>"
      ]
     },
     "metadata": {},
     "output_type": "display_data"
    }
   ],
   "source": [
    "# generating bar plot with month and revenue\n",
    "\n",
    "df9.plot(kind='bar', x='month', y='revenue', color='DarkBlue')\n",
    "plt.title('Revenue by Month')\n",
    "plt.xlabel('Revenue')\n",
    "plt.ylabel('Month')\n",
    "plt.show()"
   ]
  },
  {
   "cell_type": "code",
   "execution_count": 49,
   "id": "91f4f04a",
   "metadata": {},
   "outputs": [
    {
     "data": {
      "text/plain": [
       "original_title\n",
       "Avatar                          10178023388\n",
       "Star Wars: The Force Awakens     7472712900\n",
       "Jurassic World                   5454115240\n",
       "The Net                          5421398290\n",
       "Titanic                          4896102564\n",
       "Name: profit, dtype: int64"
      ]
     },
     "execution_count": 49,
     "metadata": {},
     "output_type": "execute_result"
    }
   ],
   "source": [
    "# Calculates total profit for each movie and selects the top 5\n",
    "\n",
    "df10 = df.groupby('original_title')['profit'].sum().sort_values(ascending=False).head(5)\n",
    "df10"
   ]
  },
  {
   "cell_type": "code",
   "execution_count": 50,
   "id": "b7fc07e6",
   "metadata": {},
   "outputs": [
    {
     "data": {
      "text/plain": [
       "Text(0.5, 1.0, 'Top 5 Movies by Profit')"
      ]
     },
     "execution_count": 50,
     "metadata": {},
     "output_type": "execute_result"
    },
    {
     "data": {
      "image/png": "[encoded data removed]",
      "text/plain": [
       "<Figure size 640x480 with 1 Axes>"
      ]
     },
     "metadata": {},
     "output_type": "display_data"
    }
   ],
   "source": [
    "# generates a pie chart with top 5 movies profits distribution\n",
    "\n",
    "df10.plot(kind='pie',autopct='%1.1f%%',startangle=90,colors=plt.cm.Paired.colors)\n",
    "plt.title(\"Top 5 Movies by Profit\", color='red')"
   ]
  },
  {
   "cell_type": "code",
   "execution_count": 51,
   "id": "52c619ac",
   "metadata": {},
   "outputs": [
    {
     "data": {
      "text/plain": [
       "production_companies\n",
       "0                       2152\n",
       "Paramount Pictures       404\n",
       "Universal Pictures       352\n",
       "Walt Disney Pictures     236\n",
       "Warner Bros.             225\n",
       "Columbia Pictures        207\n",
       "Name: count, dtype: int64"
      ]
     },
     "execution_count": 51,
     "metadata": {},
     "output_type": "execute_result"
    }
   ],
   "source": [
    "df11 = df.production_companies.value_counts().head(6)\n",
    "df11"
   ]
  },
  {
   "cell_type": "code",
   "execution_count": 52,
   "id": "b73f3622",
   "metadata": {},
   "outputs": [],
   "source": [
    "df11 = df11.drop(0)"
   ]
  },
  {
   "cell_type": "code",
   "execution_count": 53,
   "id": "55c688c4",
   "metadata": {},
   "outputs": [
    {
     "data": {
      "image/png": "[encoded data removed]",
      "text/plain": [
       "<Figure size 1100x600 with 1 Axes>"
      ]
     },
     "metadata": {},
     "output_type": "display_data"
    }
   ],
   "source": [
    "# Creates a pie chart for df11 production companies\n",
    "\n",
    "explode_list = [0,0.04,0,0,0]\n",
    "df11.plot(kind='pie',figsize=(11,6),autopct='%1.1f%%',startangle=90,labels=None,pctdistance=1.11,explode=explode_list)\n",
    "plt.legend(labels=df11.index,loc='upper right')\n",
    "plt.axis('equal')\n",
    "plt.show()"
   ]
  }
 ],
 "metadata": {
  "kernelspec": {
   "display_name": "Python 3 (ipykernel)",
   "language": "python",
   "name": "python3"
  },
  "language_info": {
   "codemirror_mode": {
    "name": "ipython",
    "version": 3
   },
   "file_extension": ".py",
   "mimetype": "text/x-python",
   "name": "python",
   "nbconvert_exporter": "python",
   "pygments_lexer": "ipython3",
   "version": "3.11.5"
  }
 },
 "nbformat": 4,
 "nbformat_minor": 5
}
